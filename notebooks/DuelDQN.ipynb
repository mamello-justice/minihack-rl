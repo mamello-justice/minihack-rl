{
  "cells": [
    {
      "cell_type": "markdown",
      "metadata": {
        "id": "-rQRFzP9-Q8g"
      },
      "source": [
        "# Reinforcement Learning\n",
        "\n",
        "## Minihack"
      ]
    },
    {
      "cell_type": "markdown",
      "metadata": {
        "id": "VQSp-_GA-XrA"
      },
      "source": [
        "### OS Update"
      ]
    },
    {
      "cell_type": "code",
      "execution_count": null,
      "metadata": {
        "colab": {
          "base_uri": "https://localhost:8080/"
        },
        "id": "6QwwVKfVNn67",
        "outputId": "f756dd25-5981-419f-8d52-84062178c46a"
      },
      "outputs": [],
      "source": [
        "!sudo apt -qq update\n",
        "!sudo apt -q install -y \\\n",
        "    build-essential \\\n",
        "    autoconf \\\n",
        "    libtool \\\n",
        "    pkg-config \\\n",
        "    python3-dev \\\n",
        "    python3-pip \\\n",
        "    python3-numpy \\\n",
        "    git \\\n",
        "    flex \\\n",
        "    bison \\\n",
        "    libbz2-dev\n",
        "\n",
        "!wget -O - https://apt.kitware.com/keys/kitware-archive-latest.asc 2>/dev/null | sudo apt-key add -\n",
        "!sudo apt-add-repository 'deb https://apt.kitware.com/ubuntu/ bionic main'\n",
        "!sudo apt -qq update\n",
        "!apt -qq --allow-unauthenticated install -y \\\n",
        "    cmake \\\n",
        "    kitware-archive-keyring\n",
        "\n",
        "# feel free to use a more elegant solution to make /usr/bin/cmake the default one\n",
        "!sudo rm $(which cmake)\n",
        "!$(which cmake) --version"
      ]
    },
    {
      "cell_type": "markdown",
      "metadata": {
        "id": "Q6EIeHVf_q0Q"
      },
      "source": [
        "### Installs"
      ]
    },
    {
      "cell_type": "code",
      "execution_count": null,
      "metadata": {
        "colab": {
          "base_uri": "https://localhost:8080/"
        },
        "id": "D3TEnWrn_xa3",
        "outputId": "665878fb-23a0-4b80-955a-76d1e93b923e"
      },
      "outputs": [],
      "source": [
        "!pip3 install -U --quiet nle\n",
        "!pip3 install -U --quiet minihack\n",
        "!pip3 install -U --quiet comet_ml"
      ]
    },
    {
      "cell_type": "markdown",
      "metadata": {},
      "source": [
        "### Comet Config"
      ]
    },
    {
      "cell_type": "code",
      "execution_count": null,
      "metadata": {},
      "outputs": [],
      "source": [
        "from comet_ml import Experiment\n",
        "\n",
        "experiment = Experiment(project_name=\"minihack\")"
      ]
    },
    {
      "cell_type": "markdown",
      "metadata": {
        "id": "y1r3jVBe_tLI"
      },
      "source": [
        "### Imports"
      ]
    },
    {
      "cell_type": "code",
      "execution_count": null,
      "metadata": {
        "id": "NjwodT2cNosJ"
      },
      "outputs": [],
      "source": [
        "import random\n",
        "import gym\n",
        "import nle\n",
        "import minihack\n",
        "import numpy as np\n",
        "\n",
        "from tqdm.auto import trange\n",
        "\n",
        "from minihack_rl.dqn.agent import D3QNAgent"
      ]
    },
    {
      "cell_type": "markdown",
      "metadata": {},
      "source": [
        "### Constants"
      ]
    },
    {
      "cell_type": "code",
      "execution_count": null,
      "metadata": {},
      "outputs": [],
      "source": [
        "params = {\n",
        "    'seed': 1,\n",
        "    'env': 'MiniHack-Quest-Hard-v0',\n",
        "    'obs_keys': ('pixel', 'message'),\n",
        "    'replay_size': 50000,\n",
        "    'batch_size': 32,\n",
        "    'double_dqn': True,\n",
        "    'target_update_freq': 100,\n",
        "    'steps': int(1e7),\n",
        "    'learn_starts': int(1e4),\n",
        "    'learn_freq': 1000,\n",
        "    'learn_rate': 0.001,\n",
        "    'gamma': 0.99\n",
        "}"
      ]
    },
    {
      "cell_type": "markdown",
      "metadata": {
        "id": "Rng4xmQzAydx"
      },
      "source": [
        "### Train"
      ]
    },
    {
      "cell_type": "code",
      "execution_count": null,
      "metadata": {
        "colab": {
          "base_uri": "https://localhost:8080/"
        },
        "id": "aB8f0s9zN-WG",
        "outputId": "0170ab15-36f0-4b09-b933-e08b485eb28d"
      },
      "outputs": [],
      "source": [
        "np.random.seed(params['seed'])\n",
        "random.seed(params['seed'])\n",
        "\n",
        "env = gym.make(params['env'], observation_keys=params['obs_keys'])\n",
        "\n",
        "\n",
        "agent = D3QNAgent(\n",
        "    env,\n",
        "    N_replay=params['replay_size'],\n",
        "    N_batch=params['batch_size'],\n",
        "    N_=params['target_update_freq'],\n",
        "    double_dqn=params['double_dqn'],\n",
        "    gamma=params['gamma'],\n",
        "    lr=params['learn_rate'],\n",
        "    lf=params['learn_freq']\n",
        ")\n",
        "\n",
        "agent.state, _ = env.reset()\n",
        "env.render()\n",
        "\n",
        "# Prefill memory\n",
        "for t in trange(params['learn_starts']):\n",
        "    action = env.action_space.sample()\n",
        "    _, _, terminal = agent.step(action)\n",
        "    \n",
        "    if terminal:\n",
        "        agent.state, _ = env.reset()\n",
        "\n",
        "# Train agent\n",
        "agent.train(params['steps'], params['epsilon'])"
      ]
    },
    {
      "cell_type": "markdown",
      "metadata": {},
      "source": [
        "### Comet Commit"
      ]
    },
    {
      "cell_type": "code",
      "execution_count": null,
      "metadata": {},
      "outputs": [],
      "source": [
        "experiment.end()"
      ]
    }
  ],
  "metadata": {
    "colab": {
      "provenance": []
    },
    "interpreter": {
      "hash": "7f2e9c92d6325c2f07ae0efa9a675a2a8072e4d87bf0d0acc2244bf818644e39"
    },
    "kernelspec": {
      "display_name": "Python 3.8.10 ('minihack')",
      "language": "python",
      "name": "python3"
    },
    "language_info": {
      "name": "python",
      "version": "3.8.10"
    }
  },
  "nbformat": 4,
  "nbformat_minor": 0
}
